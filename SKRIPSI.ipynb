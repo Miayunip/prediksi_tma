{
 "cells": [
  {
   "cell_type": "code",
   "execution_count": 30,
   "metadata": {},
   "outputs": [],
   "source": [
    "import pandas as pd\n",
    "import scipy as sc\n",
    "import matplotlib.pyplot as plt\n",
    "import numpy as np \n",
    "import pickle\n",
    "import seaborn as sns\n",
    "import tensorflow as tf\n",
    "\n",
    "from sklearn.preprocessing import StandardScaler\n",
    "from sklearn.model_selection import train_test_split\n",
    "from sklearn.preprocessing import MinMaxScaler\n",
    "from sklearn.metrics import mean_squared_error\n",
    "from sklearn.metrics import mean_absolute_error\n",
    "from math import sqrt\n",
    "#import library keras\n",
    "from keras.models import Sequential \n",
    "from keras.layers import Dense\n",
    "from keras.layers import LSTM \n",
    "from tensorflow.keras import layers\n",
    "from keras.layers import Dropout\n"
   ]
  },
  {
   "cell_type": "markdown",
   "metadata": {},
   "source": []
  },
  {
   "cell_type": "code",
   "execution_count": 31,
   "metadata": {},
   "outputs": [],
   "source": [
    "url=\"F:\\SKRIPSI\\DATASET\\datasettma.csv\""
   ]
  },
  {
   "cell_type": "code",
   "execution_count": 32,
   "metadata": {},
   "outputs": [],
   "source": [
    "dt=pd.read_csv(url,sep=\";\", decimal=\",\")"
   ]
  },
  {
   "cell_type": "code",
   "execution_count": 33,
   "metadata": {},
   "outputs": [
    {
     "data": {
      "text/plain": [
       "[RangeIndex(start=0, stop=1095, step=1),\n",
       " Index(['Tgl ', 'Max', 'Min', 'Rata2', 'Penguapan ( mm )', 'Anemometer',\n",
       "        'Penyinaran ', 'Radiasi', 'Curah', 'Muka Air'],\n",
       "       dtype='object')]"
      ]
     },
     "execution_count": 33,
     "metadata": {},
     "output_type": "execute_result"
    }
   ],
   "source": [
    "dt.axes"
   ]
  },
  {
   "cell_type": "markdown",
   "metadata": {},
   "source": []
  },
  {
   "cell_type": "code",
   "execution_count": 34,
   "metadata": {},
   "outputs": [
    {
     "data": {
      "text/plain": [
       "Tgl                  object\n",
       "Max                   int64\n",
       "Min                   int64\n",
       "Rata2               float64\n",
       "Penguapan ( mm )    float64\n",
       "Anemometer          float64\n",
       "Penyinaran          float64\n",
       "Radiasi             float64\n",
       "Curah               float64\n",
       "Muka Air            float64\n",
       "dtype: object"
      ]
     },
     "execution_count": 34,
     "metadata": {},
     "output_type": "execute_result"
    }
   ],
   "source": [
    "dt.dtypes"
   ]
  },
  {
   "cell_type": "code",
   "execution_count": 35,
   "metadata": {},
   "outputs": [
    {
     "data": {
      "text/plain": [
       "(1095, 10)"
      ]
     },
     "execution_count": 35,
     "metadata": {},
     "output_type": "execute_result"
    }
   ],
   "source": [
    "dt.shape"
   ]
  },
  {
   "cell_type": "code",
   "execution_count": 36,
   "metadata": {},
   "outputs": [
    {
     "data": {
      "text/html": [
       "<div>\n",
       "<style scoped>\n",
       "    .dataframe tbody tr th:only-of-type {\n",
       "        vertical-align: middle;\n",
       "    }\n",
       "\n",
       "    .dataframe tbody tr th {\n",
       "        vertical-align: top;\n",
       "    }\n",
       "\n",
       "    .dataframe thead th {\n",
       "        text-align: right;\n",
       "    }\n",
       "</style>\n",
       "<table border=\"1\" class=\"dataframe\">\n",
       "  <thead>\n",
       "    <tr style=\"text-align: right;\">\n",
       "      <th></th>\n",
       "      <th>Max</th>\n",
       "      <th>Min</th>\n",
       "      <th>Rata2</th>\n",
       "      <th>Penguapan ( mm )</th>\n",
       "      <th>Anemometer</th>\n",
       "      <th>Penyinaran</th>\n",
       "      <th>Radiasi</th>\n",
       "      <th>Curah</th>\n",
       "      <th>Muka Air</th>\n",
       "    </tr>\n",
       "  </thead>\n",
       "  <tbody>\n",
       "    <tr>\n",
       "      <th>count</th>\n",
       "      <td>1095.000000</td>\n",
       "      <td>1095.000000</td>\n",
       "      <td>1095.000000</td>\n",
       "      <td>1095.000000</td>\n",
       "      <td>1095.000000</td>\n",
       "      <td>1095.000000</td>\n",
       "      <td>1095.000000</td>\n",
       "      <td>1092.000000</td>\n",
       "      <td>1060.000000</td>\n",
       "    </tr>\n",
       "    <tr>\n",
       "      <th>mean</th>\n",
       "      <td>39.952511</td>\n",
       "      <td>23.210959</td>\n",
       "      <td>31.581735</td>\n",
       "      <td>10.490502</td>\n",
       "      <td>7.957991</td>\n",
       "      <td>42.198484</td>\n",
       "      <td>135.995087</td>\n",
       "      <td>5.504579</td>\n",
       "      <td>0.934632</td>\n",
       "    </tr>\n",
       "    <tr>\n",
       "      <th>std</th>\n",
       "      <td>3.889179</td>\n",
       "      <td>3.115138</td>\n",
       "      <td>2.983874</td>\n",
       "      <td>18.275630</td>\n",
       "      <td>4.782967</td>\n",
       "      <td>21.383127</td>\n",
       "      <td>91.067422</td>\n",
       "      <td>14.457575</td>\n",
       "      <td>2.046215</td>\n",
       "    </tr>\n",
       "    <tr>\n",
       "      <th>min</th>\n",
       "      <td>29.000000</td>\n",
       "      <td>10.000000</td>\n",
       "      <td>24.500000</td>\n",
       "      <td>0.000000</td>\n",
       "      <td>0.800000</td>\n",
       "      <td>0.000000</td>\n",
       "      <td>0.000000</td>\n",
       "      <td>0.000000</td>\n",
       "      <td>0.000000</td>\n",
       "    </tr>\n",
       "    <tr>\n",
       "      <th>25%</th>\n",
       "      <td>37.000000</td>\n",
       "      <td>21.000000</td>\n",
       "      <td>30.000000</td>\n",
       "      <td>4.000000</td>\n",
       "      <td>5.500000</td>\n",
       "      <td>26.720000</td>\n",
       "      <td>70.190000</td>\n",
       "      <td>0.000000</td>\n",
       "      <td>0.000000</td>\n",
       "    </tr>\n",
       "    <tr>\n",
       "      <th>50%</th>\n",
       "      <td>39.000000</td>\n",
       "      <td>23.000000</td>\n",
       "      <td>31.000000</td>\n",
       "      <td>5.000000</td>\n",
       "      <td>7.000000</td>\n",
       "      <td>44.410000</td>\n",
       "      <td>122.840000</td>\n",
       "      <td>0.000000</td>\n",
       "      <td>0.300000</td>\n",
       "    </tr>\n",
       "    <tr>\n",
       "      <th>75%</th>\n",
       "      <td>43.000000</td>\n",
       "      <td>24.000000</td>\n",
       "      <td>32.000000</td>\n",
       "      <td>6.000000</td>\n",
       "      <td>8.900000</td>\n",
       "      <td>60.170000</td>\n",
       "      <td>187.180000</td>\n",
       "      <td>3.125000</td>\n",
       "      <td>1.000000</td>\n",
       "    </tr>\n",
       "    <tr>\n",
       "      <th>max</th>\n",
       "      <td>50.000000</td>\n",
       "      <td>36.000000</td>\n",
       "      <td>42.500000</td>\n",
       "      <td>187.500000</td>\n",
       "      <td>60.800000</td>\n",
       "      <td>113.060000</td>\n",
       "      <td>701.930000</td>\n",
       "      <td>145.800000</td>\n",
       "      <td>20.400000</td>\n",
       "    </tr>\n",
       "  </tbody>\n",
       "</table>\n",
       "</div>"
      ],
      "text/plain": [
       "               Max          Min        Rata2  Penguapan ( mm )   Anemometer  \\\n",
       "count  1095.000000  1095.000000  1095.000000       1095.000000  1095.000000   \n",
       "mean     39.952511    23.210959    31.581735         10.490502     7.957991   \n",
       "std       3.889179     3.115138     2.983874         18.275630     4.782967   \n",
       "min      29.000000    10.000000    24.500000          0.000000     0.800000   \n",
       "25%      37.000000    21.000000    30.000000          4.000000     5.500000   \n",
       "50%      39.000000    23.000000    31.000000          5.000000     7.000000   \n",
       "75%      43.000000    24.000000    32.000000          6.000000     8.900000   \n",
       "max      50.000000    36.000000    42.500000        187.500000    60.800000   \n",
       "\n",
       "       Penyinaran       Radiasi        Curah     Muka Air  \n",
       "count  1095.000000  1095.000000  1092.000000  1060.000000  \n",
       "mean     42.198484   135.995087     5.504579     0.934632  \n",
       "std      21.383127    91.067422    14.457575     2.046215  \n",
       "min       0.000000     0.000000     0.000000     0.000000  \n",
       "25%      26.720000    70.190000     0.000000     0.000000  \n",
       "50%      44.410000   122.840000     0.000000     0.300000  \n",
       "75%      60.170000   187.180000     3.125000     1.000000  \n",
       "max     113.060000   701.930000   145.800000    20.400000  "
      ]
     },
     "execution_count": 36,
     "metadata": {},
     "output_type": "execute_result"
    }
   ],
   "source": [
    "dt.describe()"
   ]
  },
  {
   "cell_type": "code",
   "execution_count": 37,
   "metadata": {},
   "outputs": [
    {
     "data": {
      "text/plain": [
       "Tgl                   0\n",
       "Max                   0\n",
       "Min                   0\n",
       "Rata2                 0\n",
       "Penguapan ( mm )     42\n",
       "Anemometer            0\n",
       "Penyinaran           33\n",
       "Radiasi              69\n",
       "Curah               641\n",
       "Muka Air            318\n",
       "dtype: int64"
      ]
     },
     "execution_count": 37,
     "metadata": {},
     "output_type": "execute_result"
    }
   ],
   "source": [
    "dt=dt.replace(0, np.NaN)\n",
    "dt.isnull().sum()"
   ]
  },
  {
   "cell_type": "markdown",
   "metadata": {},
   "source": [
    "plot correlation matrix\n"
   ]
  },
  {
   "cell_type": "code",
   "execution_count": 38,
   "metadata": {},
   "outputs": [],
   "source": [
    " Var_Corr = dt.corr()"
   ]
  },
  {
   "cell_type": "code",
   "execution_count": 39,
   "metadata": {},
   "outputs": [
    {
     "data": {
      "image/png": "[encoded data removed]",
      "text/plain": [
       "<Figure size 1080x720 with 2 Axes>"
      ]
     },
     "metadata": {
      "needs_background": "light"
     },
     "output_type": "display_data"
    }
   ],
   "source": [
    "plt.figure(figsize=(15,10))\n",
    "sns.heatmap(dt.corr(),annot=True,cmap='viridis')\n",
    "plt.title('korelasi antar variabel ',fontsize =19)\n",
    "plt.show()"
   ]
  },
  {
   "cell_type": "code",
   "execution_count": 40,
   "metadata": {},
   "outputs": [],
   "source": [
    "col_=dt.columns.tolist()[2:]"
   ]
  },
  {
   "cell_type": "code",
   "execution_count": 41,
   "metadata": {
    "scrolled": true
   },
   "outputs": [],
   "source": [
    "X= dt[col_].drop('Muka Air',1)\n",
    "Y= dt['Muka Air']"
   ]
  },
  {
   "cell_type": "code",
   "execution_count": 42,
   "metadata": {},
   "outputs": [
    {
     "name": "stdout",
     "output_type": "stream",
     "text": [
      "      Min  Rata2  Penguapan ( mm )  Anemometer  Penyinaran   Radiasi  Curah\n",
      "0      24   29.5               1.2        12.6        39.07   245.68    0.2\n",
      "1      24   30.0             120.5         9.9        24.50   163.78   62.5\n",
      "2      24   28.5               3.6         5.5        23.84   204.73    1.6\n",
      "3      25   30.5              37.0         5.8          NaN    81.89   17.0\n",
      "4      24   30.5               5.5        19.8        25.83   333.42    0.5\n",
      "...   ...    ...               ...         ...          ...      ...    ...\n",
      "1090   33   41.5               6.0        11.3        72.28      NaN    NaN\n",
      "1091   33   41.5               5.0         7.7        67.64   163.78    NaN\n",
      "1092   33   41.5               4.0         8.9        68.30   456.25    NaN\n",
      "1093   33   41.5               5.0         7.1        75.60    35.10    NaN\n",
      "1094   33   41.5               5.0        37.2        70.29    35.10    NaN\n",
      "\n",
      "[1095 rows x 7 columns]\n"
     ]
    }
   ],
   "source": [
    "print(X)"
   ]
  },
  {
   "cell_type": "code",
   "execution_count": 43,
   "metadata": {
    "scrolled": true
   },
   "outputs": [
    {
     "name": "stdout",
     "output_type": "stream",
     "text": [
      "0       1.00\n",
      "1       4.00\n",
      "2       0.80\n",
      "3       2.00\n",
      "4       3.00\n",
      "        ... \n",
      "1090    0.21\n",
      "1091    0.19\n",
      "1092    0.18\n",
      "1093    0.19\n",
      "1094    0.18\n",
      "Name: Muka Air, Length: 1095, dtype: float64\n"
     ]
    }
   ],
   "source": [
    "print(Y)"
   ]
  },
  {
   "cell_type": "markdown",
   "metadata": {},
   "source": [
    "normalisasi data"
   ]
  },
  {
   "cell_type": "code",
   "execution_count": 44,
   "metadata": {},
   "outputs": [],
   "source": [
    "sc=MinMaxScaler(feature_range=(0,1))\n",
    "training_set=dt.iloc[:,1:2].values\n",
    "training_set_scaled=sc.fit_transform(training_set)"
   ]
  },
  {
   "cell_type": "markdown",
   "metadata": {},
   "source": [
    "membagi data train dan test"
   ]
  },
  {
   "cell_type": "code",
   "execution_count": 45,
   "metadata": {},
   "outputs": [],
   "source": [
    "X_train, X_test, Y_train,Y_test = train_test_split(X, Y, \n",
    "                          test_size = 0.3, \n",
    "                          random_state = 0)"
   ]
  },
  {
   "cell_type": "code",
   "execution_count": 46,
   "metadata": {},
   "outputs": [
    {
     "name": "stdout",
     "output_type": "stream",
     "text": [
      "jumlah data train = (766, 7)\n",
      "jumlah data test = (329, 7)\n"
     ]
    }
   ],
   "source": [
    "print(\"jumlah data train =\", X_train.shape)\n",
    "print(\"jumlah data test =\", X_test.shape)"
   ]
  },
  {
   "cell_type": "code",
   "execution_count": 47,
   "metadata": {},
   "outputs": [],
   "source": [
    "training_set=dt.iloc[:,1:9].values"
   ]
  },
  {
   "cell_type": "code",
   "execution_count": 48,
   "metadata": {},
   "outputs": [],
   "source": [
    "testing_set=dt.iloc[:,1:9].values"
   ]
  },
  {
   "cell_type": "markdown",
   "metadata": {},
   "source": [
    "creating a data structure with 60 timesteps and 1 output"
   ]
  },
  {
   "cell_type": "code",
   "execution_count": 49,
   "metadata": {},
   "outputs": [],
   "source": [
    "X_train=[]\n",
    "Y_train=[]\n",
    "for i in range (60,1095):\n",
    "    X_train.append(training_set_scaled[i-60:i,0])\n",
    "    Y_train.append(training_set_scaled[i,0])\n",
    "X_train,Y_train=np.array(X_train),np.array(Y_train)\n"
   ]
  },
  {
   "cell_type": "markdown",
   "metadata": {},
   "source": [
    "reshaping = membentuk kembali "
   ]
  },
  {
   "cell_type": "code",
   "execution_count": 50,
   "metadata": {},
   "outputs": [],
   "source": [
    "X_train=np.reshape(X_train,(X_train.shape[0],\n",
    "                    X_train.shape[1],1))"
   ]
  },
  {
   "cell_type": "markdown",
   "metadata": {},
   "source": [
    "inisialising the RNN "
   ]
  },
  {
   "cell_type": "code",
   "execution_count": 61,
   "metadata": {},
   "outputs": [
    {
     "ename": "TypeError",
     "evalue": "__init__() got an unexpected keyword argument 'shape'",
     "output_type": "error",
     "traceback": [
      "\u001b[1;31m---------------------------------------------------------------------------\u001b[0m",
      "\u001b[1;31mTypeError\u001b[0m                                 Traceback (most recent call last)",
      "\u001b[1;32m<ipython-input-61-4f0ab4170d8d>\u001b[0m in \u001b[0;36m<module>\u001b[1;34m\u001b[0m\n\u001b[1;32m----> 1\u001b[1;33m \u001b[0mregressor\u001b[0m\u001b[1;33m=\u001b[0m\u001b[0mSequential\u001b[0m\u001b[1;33m(\u001b[0m\u001b[0mshape\u001b[0m\u001b[1;33m=\u001b[0m\u001b[1;36m1090\u001b[0m\u001b[1;33m)\u001b[0m\u001b[1;33m\u001b[0m\u001b[1;33m\u001b[0m\u001b[0m\n\u001b[0m\u001b[0;32m      2\u001b[0m \u001b[0mlayers\u001b[0m\u001b[1;33m.\u001b[0m\u001b[0mDense\u001b[0m\u001b[1;33m(\u001b[0m\u001b[1;36m20\u001b[0m\u001b[1;33m,\u001b[0m\u001b[0mactivation\u001b[0m\u001b[1;33m=\u001b[0m\u001b[1;34m\"relu\"\u001b[0m\u001b[1;33m)\u001b[0m\u001b[1;33m(\u001b[0m\u001b[0mregressor\u001b[0m\u001b[1;33m)\u001b[0m\u001b[1;33m\u001b[0m\u001b[1;33m\u001b[0m\u001b[0m\n",
      "\u001b[1;31mTypeError\u001b[0m: __init__() got an unexpected keyword argument 'shape'"
     ]
    }
   ],
   "source": [
    "regressor=Sequential(shape=1090)\n",
    "layers.Dense(20,activation=\"relu\")(regressor)\n"
   ]
  },
  {
   "cell_type": "markdown",
   "metadata": {},
   "source": [
    "##### adding the first lstm layer and some dropout regulation"
   ]
  },
  {
   "cell_type": "code",
   "execution_count": 52,
   "metadata": {},
   "outputs": [],
   "source": [
    "regressor.add(LSTM(units =50,\n",
    "                   return_sequences = True, \n",
    " v                   input_shape=(X_train.shape[1],1)))\n",
    "regressor.add(Dropout(0,2))"
   ]
  },
  {
   "cell_type": "code",
   "execution_count": 53,
   "metadata": {},
   "outputs": [],
   "source": [
    "regressor.add(LSTM(units=50,\n",
    "                   return_sequences= True))\n",
    "regressor.add(Dropout(0,2))"
   ]
  },
  {
   "cell_type": "code",
   "execution_count": 54,
   "metadata": {},
   "outputs": [],
   "source": [
    "regressor.add(LSTM(units=50,\n",
    "                   return_sequences= True))\n",
    "regressor.add(Dropout(0,2))"
   ]
  },
  {
   "cell_type": "code",
   "execution_count": 55,
   "metadata": {},
   "outputs": [],
   "source": [
    "regressor.add(LSTM(units=50))\n",
    "regressor.add(Dropout(0,2))"
   ]
  },
  {
   "cell_type": "markdown",
   "metadata": {},
   "source": [
    "adding the output layer "
   ]
  },
  {
   "cell_type": "code",
   "execution_count": 56,
   "metadata": {},
   "outputs": [],
   "source": [
    "regressor.add(Dense(units=1))"
   ]
  },
  {
   "cell_type": "markdown",
   "metadata": {},
   "source": [
    "compiling the rnn "
   ]
  },
  {
   "cell_type": "code",
   "execution_count": 58,
   "metadata": {},
   "outputs": [],
   "source": [
    "regressor.compile(optimizer='adam', \n",
    "                  loss='mean_squared_error')"
   ]
  },
  {
   "cell_type": "markdown",
   "metadata": {},
   "source": [
    "fitting the rnnto the training set"
   ]
  },
  {
   "cell_type": "code",
   "execution_count": 59,
   "metadata": {},
   "outputs": [
    {
     "name": "stdout",
     "output_type": "stream",
     "text": [
      "Epoch 1/100\n",
      "1035/1035 [==============================] - 6s 6ms/step - loss: 0.0810\n",
      "Epoch 2/100\n",
      "1035/1035 [==============================] - 3s 3ms/step - loss: 0.0143\n",
      "Epoch 3/100\n",
      "1035/1035 [==============================] - 4s 4ms/step - loss: 0.0086\n",
      "Epoch 4/100\n",
      "1035/1035 [==============================] - 4s 4ms/step - loss: 0.0053\n",
      "Epoch 5/100\n",
      "1035/1035 [==============================] - 4s 4ms/step - loss: 0.0047\n",
      "Epoch 6/100\n",
      "1035/1035 [==============================] - 5s 4ms/step - loss: 0.0052\n",
      "Epoch 7/100\n",
      "1035/1035 [==============================] - 4s 4ms/step - loss: 0.0046\n",
      "Epoch 8/100\n",
      "1035/1035 [==============================] - 4s 4ms/step - loss: 0.0048\n",
      "Epoch 9/100\n",
      "1035/1035 [==============================] - 4s 4ms/step - loss: 0.0046\n",
      "Epoch 10/100\n",
      "1035/1035 [==============================] - 5s 4ms/step - loss: 0.0048\n",
      "Epoch 11/100\n",
      "1035/1035 [==============================] - 5s 5ms/step - loss: 0.0048\n",
      "Epoch 12/100\n",
      "1035/1035 [==============================] - 4s 4ms/step - loss: 0.0046\n",
      "Epoch 13/100\n",
      "1035/1035 [==============================] - 4s 4ms/step - loss: 0.0046\n",
      "Epoch 14/100\n",
      "1035/1035 [==============================] - 4s 4ms/step - loss: 0.0046\n",
      "Epoch 15/100\n",
      "1035/1035 [==============================] - 4s 4ms/step - loss: 0.0047\n",
      "Epoch 16/100\n",
      "1035/1035 [==============================] - 4s 4ms/step - loss: 0.0048\n",
      "Epoch 17/100\n",
      "1035/1035 [==============================] - 4s 4ms/step - loss: 0.0052\n",
      "Epoch 18/100\n",
      "1035/1035 [==============================] - 4s 4ms/step - loss: 0.0046\n",
      "Epoch 19/100\n",
      "1035/1035 [==============================] - 4s 4ms/step - loss: 0.0046\n",
      "Epoch 20/100\n",
      "1035/1035 [==============================] - 4s 4ms/step - loss: 0.0050\n",
      "Epoch 21/100\n",
      "1035/1035 [==============================] - 4s 4ms/step - loss: 0.0046\n",
      "Epoch 22/100\n",
      "1035/1035 [==============================] - 4s 4ms/step - loss: 0.0046\n",
      "Epoch 23/100\n",
      "1035/1035 [==============================] - 4s 4ms/step - loss: 0.0045\n",
      "Epoch 24/100\n",
      "1035/1035 [==============================] - 4s 4ms/step - loss: 0.0045\n",
      "Epoch 25/100\n",
      "1035/1035 [==============================] - 4s 4ms/step - loss: 0.0049\n",
      "Epoch 26/100\n",
      "1035/1035 [==============================] - 4s 4ms/step - loss: 0.0052\n",
      "Epoch 27/100\n",
      "1035/1035 [==============================] - 4s 4ms/step - loss: 0.0047\n",
      "Epoch 28/100\n",
      "1035/1035 [==============================] - 4s 4ms/step - loss: 0.0045\n",
      "Epoch 29/100\n",
      "1035/1035 [==============================] - 4s 4ms/step - loss: 0.0047\n",
      "Epoch 30/100\n",
      "1035/1035 [==============================] - 4s 4ms/step - loss: 0.0048\n",
      "Epoch 31/100\n",
      "1035/1035 [==============================] - 4s 4ms/step - loss: 0.0045\n",
      "Epoch 32/100\n",
      "1035/1035 [==============================] - 3s 3ms/step - loss: 0.0047\n",
      "Epoch 33/100\n",
      "1035/1035 [==============================] - 3s 3ms/step - loss: 0.0045\n",
      "Epoch 34/100\n",
      "1035/1035 [==============================] - 3s 3ms/step - loss: 0.0048\n",
      "Epoch 35/100\n",
      "1035/1035 [==============================] - 3s 3ms/step - loss: 0.0048\n",
      "Epoch 36/100\n",
      "1035/1035 [==============================] - 3s 3ms/step - loss: 0.0045\n",
      "Epoch 37/100\n",
      "1035/1035 [==============================] - 3s 3ms/step - loss: 0.0045\n",
      "Epoch 38/100\n",
      "1035/1035 [==============================] - 4s 4ms/step - loss: 0.0045\n",
      "Epoch 39/100\n",
      "1035/1035 [==============================] - 3s 3ms/step - loss: 0.0047\n",
      "Epoch 40/100\n",
      "1035/1035 [==============================] - 3s 3ms/step - loss: 0.0044\n",
      "Epoch 41/100\n",
      "1035/1035 [==============================] - 3s 3ms/step - loss: 0.0044\n",
      "Epoch 42/100\n",
      "1035/1035 [==============================] - 3s 3ms/step - loss: 0.0046\n",
      "Epoch 43/100\n",
      "1035/1035 [==============================] - 3s 3ms/step - loss: 0.0047\n",
      "Epoch 44/100\n",
      "1035/1035 [==============================] - 3s 3ms/step - loss: 0.0044\n",
      "Epoch 45/100\n",
      "1035/1035 [==============================] - 3s 3ms/step - loss: 0.0044\n",
      "Epoch 46/100\n",
      "1035/1035 [==============================] - 3s 3ms/step - loss: 0.0045\n",
      "Epoch 47/100\n",
      "1035/1035 [==============================] - 3s 3ms/step - loss: 0.0045\n",
      "Epoch 48/100\n",
      "1035/1035 [==============================] - 3s 3ms/step - loss: 0.0044\n",
      "Epoch 49/100\n",
      "1035/1035 [==============================] - 3s 3ms/step - loss: 0.0043\n",
      "Epoch 50/100\n",
      "1035/1035 [==============================] - 3s 3ms/step - loss: 0.0048\n",
      "Epoch 51/100\n",
      "1035/1035 [==============================] - 3s 3ms/step - loss: 0.0046\n",
      "Epoch 52/100\n",
      "1035/1035 [==============================] - 3s 3ms/step - loss: 0.0045\n",
      "Epoch 53/100\n",
      "1035/1035 [==============================] - 3s 3ms/step - loss: 0.0042\n",
      "Epoch 54/100\n",
      "1035/1035 [==============================] - 3s 3ms/step - loss: 0.0044\n",
      "Epoch 55/100\n",
      "1035/1035 [==============================] - 3s 3ms/step - loss: 0.0042\n",
      "Epoch 56/100\n",
      "1035/1035 [==============================] - 3s 3ms/step - loss: 0.0042\n",
      "Epoch 57/100\n",
      "1035/1035 [==============================] - 3s 3ms/step - loss: 0.0043\n",
      "Epoch 58/100\n",
      "1035/1035 [==============================] - 3s 3ms/step - loss: 0.0042\n",
      "Epoch 59/100\n",
      "1035/1035 [==============================] - 3s 3ms/step - loss: 0.0042\n",
      "Epoch 60/100\n",
      "1035/1035 [==============================] - 3s 3ms/step - loss: 0.0042\n",
      "Epoch 61/100\n",
      "1035/1035 [==============================] - 3s 3ms/step - loss: 0.0043\n",
      "Epoch 62/100\n",
      "1035/1035 [==============================] - 3s 3ms/step - loss: 0.0042\n",
      "Epoch 63/100\n",
      "1035/1035 [==============================] - 3s 3ms/step - loss: 0.0043\n",
      "Epoch 64/100\n",
      "1035/1035 [==============================] - 3s 3ms/step - loss: 0.0041\n",
      "Epoch 65/100\n",
      "1035/1035 [==============================] - 3s 3ms/step - loss: 0.0041\n",
      "Epoch 66/100\n",
      "1035/1035 [==============================] - 3s 3ms/step - loss: 0.0042\n",
      "Epoch 67/100\n",
      "1035/1035 [==============================] - 3s 3ms/step - loss: 0.0040\n",
      "Epoch 68/100\n",
      "1035/1035 [==============================] - 3s 3ms/step - loss: 0.0040\n",
      "Epoch 69/100\n",
      "1035/1035 [==============================] - 3s 3ms/step - loss: 0.0042\n",
      "Epoch 70/100\n",
      "1035/1035 [==============================] - 3s 3ms/step - loss: 0.0040\n",
      "Epoch 71/100\n",
      "1035/1035 [==============================] - 3s 3ms/step - loss: 0.0041\n",
      "Epoch 72/100\n",
      "1035/1035 [==============================] - 3s 3ms/step - loss: 0.0040\n",
      "Epoch 73/100\n",
      "1035/1035 [==============================] - 3s 3ms/step - loss: 0.0039\n",
      "Epoch 74/100\n",
      "1035/1035 [==============================] - 4s 3ms/step - loss: 0.0040\n",
      "Epoch 75/100\n",
      "1035/1035 [==============================] - 3s 3ms/step - loss: 0.0041\n",
      "Epoch 76/100\n",
      "1035/1035 [==============================] - 3s 3ms/step - loss: 0.0039\n",
      "Epoch 77/100\n",
      "1035/1035 [==============================] - 3s 3ms/step - loss: 0.0039\n",
      "Epoch 78/100\n",
      "1035/1035 [==============================] - 3s 3ms/step - loss: 0.0040\n",
      "Epoch 79/100\n",
      "1035/1035 [==============================] - 3s 3ms/step - loss: 0.0043\n",
      "Epoch 80/100\n",
      "1035/1035 [==============================] - 4s 4ms/step - loss: 0.0039\n",
      "Epoch 81/100\n",
      "1035/1035 [==============================] - 3s 3ms/step - loss: 0.0037\n",
      "Epoch 82/100\n",
      "1035/1035 [==============================] - 3s 3ms/step - loss: 0.0037\n",
      "Epoch 83/100\n",
      "1035/1035 [==============================] - 3s 3ms/step - loss: 0.0037\n",
      "Epoch 84/100\n",
      "1035/1035 [==============================] - 3s 3ms/step - loss: 0.0037\n",
      "Epoch 85/100\n",
      "1035/1035 [==============================] - 3s 3ms/step - loss: 0.0036\n",
      "Epoch 86/100\n",
      "1035/1035 [==============================] - 3s 3ms/step - loss: 0.0038\n",
      "Epoch 87/100\n",
      "1035/1035 [==============================] - 3s 3ms/step - loss: 0.0040\n",
      "Epoch 88/100\n",
      "1035/1035 [==============================] - 3s 3ms/step - loss: 0.0037\n",
      "Epoch 89/100\n",
      "1035/1035 [==============================] - 3s 3ms/step - loss: 0.0037\n",
      "Epoch 90/100\n",
      "1035/1035 [==============================] - 3s 3ms/step - loss: 0.0036\n",
      "Epoch 91/100\n",
      "1035/1035 [==============================] - 3s 3ms/step - loss: 0.0035\n",
      "Epoch 92/100\n",
      "1035/1035 [==============================] - 3s 3ms/step - loss: 0.0035\n",
      "Epoch 93/100\n",
      "1035/1035 [==============================] - 3s 3ms/step - loss: 0.0036\n",
      "Epoch 94/100\n",
      "1035/1035 [==============================] - 3s 3ms/step - loss: 0.0033\n",
      "Epoch 95/100\n",
      "1035/1035 [==============================] - 3s 3ms/step - loss: 0.0033\n",
      "Epoch 96/100\n",
      "1035/1035 [==============================] - 3s 3ms/step - loss: 0.0032\n",
      "Epoch 97/100\n"
     ]
    },
    {
     "name": "stdout",
     "output_type": "stream",
     "text": [
      "1035/1035 [==============================] - 3s 3ms/step - loss: 0.0034\n",
      "Epoch 98/100\n",
      "1035/1035 [==============================] - 3s 3ms/step - loss: 0.0039\n",
      "Epoch 99/100\n",
      "1035/1035 [==============================] - 3s 3ms/step - loss: 0.0036\n",
      "Epoch 100/100\n",
      "1035/1035 [==============================] - 3s 3ms/step - loss: 0.0034\n"
     ]
    },
    {
     "data": {
      "text/plain": [
       "<keras.callbacks.callbacks.History at 0x1dd5229d630>"
      ]
     },
     "execution_count": 59,
     "metadata": {},
     "output_type": "execute_result"
    }
   ],
   "source": [
    "regressor.fit(X_train,  Y_train, epochs =100, batch_size =64)"
   ]
  },
  {
   "cell_type": "markdown",
   "metadata": {},
   "source": []
  },
  {
   "cell_type": "code",
   "execution_count": null,
   "metadata": {},
   "outputs": [],
   "source": [
    "plt.hist(training_set)\n",
    "plt.hist(testing_set)\n",
    "plt.show()"
   ]
  },
  {
   "cell_type": "code",
   "execution_count": null,
   "metadata": {},
   "outputs": [],
   "source": []
  },
  {
   "cell_type": "code",
   "execution_count": null,
   "metadata": {},
   "outputs": [],
   "source": [
    "Regression=Sequential()\n",
    "Reg_model=Regression.fit(X_train, Y_train)"
   ]
  },
  {
   "cell_type": "code",
   "execution_count": null,
   "metadata": {},
   "outputs": [],
   "source": []
  }
 ],
 "metadata": {
  "kernelspec": {
   "display_name": "Python 3",
   "language": "python",
   "name": "python3"
  },
  "language_info": {
   "codemirror_mode": {
    "name": "ipython",
    "version": 3
   },
   "file_extension": ".py",
   "mimetype": "text/x-python",
   "name": "python",
   "nbconvert_exporter": "python",
   "pygments_lexer": "ipython3",
   "version": "3.6.10"
  },
  "widgets": {
   "application/vnd.jupyter.widget-state+json": {
    "state": {},
    "version_major": 2,
    "version_minor": 0
   }
  }
 },
 "nbformat": 4,
 "nbformat_minor": 2
}
